{
 "cells": [
  {
   "cell_type": "markdown",
   "metadata": {},
   "source": [
    "### Original Idea:\n",
    "For each sentence create a matrix of the following form:\n",
    "\n",
    "```\n",
    "w_1: (v_11, ... , v_1n, A, B)\n",
    "             .\n",
    "             .\n",
    "             .\n",
    "w_p: (v_p1, ... , v_pn, A, B)\n",
    "             .\n",
    "             .\n",
    "             .\n",
    "w_m: (v_m1, ... , v_mn, A, B)\n",
    "```\n",
    "\n",
    "where:\n",
    "\n",
    "- `w_1`, ... , `w_m` are words of the sentence\n",
    "- `w_p` is always the pronoun\n",
    "- `v_11`, ... , `v_mn` are the values of a word vector\n",
    "- `A`, `B` are the hot encoded corefs.\n",
    "- `n` is between 50 and 300 (depending on the dimension of the word vector)\n",
    "- `m` is between 100 and 400 (depending on a window size around the pronoun)\n",
    "\n",
    "Use a convolutional neural network to learn the three categories `A`, `B`, `NEITHER`.\n",
    "\n",
    "### Question:\n",
    "\n",
    "Is 2000 to 4000 data sets enough to learn without overfitting?"
   ]
  },
  {
   "cell_type": "code",
   "execution_count": null,
   "metadata": {},
   "outputs": [],
   "source": []
  }
 ],
 "metadata": {
  "kernelspec": {
   "display_name": "Python 3",
   "language": "python",
   "name": "python3"
  },
  "language_info": {
   "codemirror_mode": {
    "name": "ipython",
    "version": 3
   },
   "file_extension": ".py",
   "mimetype": "text/x-python",
   "name": "python",
   "nbconvert_exporter": "python",
   "pygments_lexer": "ipython3",
   "version": "3.7.2"
  }
 },
 "nbformat": 4,
 "nbformat_minor": 2
}
