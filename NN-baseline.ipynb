{
 "cells": [
  {
   "cell_type": "code",
   "execution_count": 1,
   "metadata": {},
   "outputs": [
    {
     "name": "stderr",
     "output_type": "stream",
     "text": [
      "Using TensorFlow backend.\n"
     ]
    }
   ],
   "source": [
    "from os.path import expanduser, exists\n",
    "from zipfile import ZipFile\n",
    "import pickle\n",
    "\n",
    "import tensorflow as tf\n",
    "from keras.preprocessing.text import Tokenizer\n",
    "from keras.preprocessing.sequence import pad_sequences\n",
    "from keras.utils.data_utils import get_file\n",
    "from keras.models import Model\n",
    "from keras.layers import Input, Embedding, GRU, LSTM, Dense, BatchNormalization, Dropout\n",
    "from keras.callbacks import History, ModelCheckpoint, EarlyStopping\n",
    "from keras import regularizers\n",
    "from keras.optimizers import Adam\n",
    "from keras.utils import to_categorical\n",
    "\n",
    "import pandas as pd\n",
    "import numpy as np\n",
    "import matplotlib.pyplot as plt\n",
    "import mlflow.keras"
   ]
  },
  {
   "cell_type": "code",
   "execution_count": 2,
   "metadata": {},
   "outputs": [],
   "source": [
    "KERAS_DATASETS_DIR = expanduser('~/.keras/datasets/')\n",
    "GLOVE_ZIP_FILE_URL = 'http://nlp.stanford.edu/data/glove.840B.300d.zip'\n",
    "GLOVE_ZIP_FILE = 'glove.840B.300d.zip'\n",
    "GLOVE_FILE = 'glove.840B.300d.txt'\n",
    "EMBEDDING_DIM = 300\n",
    "\n",
    "train_file = 'data/raw/gap-coreference/gap-development.tsv'\n",
    "dev_file = 'data/raw/gap-coreference/gap-validation.tsv'\n",
    "test_file = 'data/raw/gap-coreference/gap-test.tsv'"
   ]
  },
  {
   "cell_type": "code",
   "execution_count": 3,
   "metadata": {},
   "outputs": [],
   "source": [
    "# Download and process GloVe embeddings\n",
    "if not exists(KERAS_DATASETS_DIR + GLOVE_ZIP_FILE):\n",
    "    zipfile = ZipFile(get_file(GLOVE_ZIP_FILE, GLOVE_ZIP_FILE_URL))\n",
    "    zipfile.extract(GLOVE_FILE, path=KERAS_DATASETS_DIR)"
   ]
  },
  {
   "cell_type": "code",
   "execution_count": 4,
   "metadata": {},
   "outputs": [],
   "source": [
    "# Create embedding index\n",
    "def get_embeddings():\n",
    "    embeddings_index = {}\n",
    "    file = KERAS_DATASETS_DIR + GLOVE_FILE\n",
    "\n",
    "    with open(file, encoding='utf-8') as f:\n",
    "        for line in f:\n",
    "            values = line.split(' ')\n",
    "            word = values[0]\n",
    "            embedding = np.asarray(values[1:], dtype='float32')\n",
    "            embeddings_index[word] = embedding\n",
    "\n",
    "    print('Word embeddings: %d' % len(embeddings_index))\n",
    "    return embeddings_index\n",
    "\n",
    "\n",
    "# Prepare word embedding matrix\n",
    "def get_embedding_matrix(embeddings_index, word_index, max_nb_words):\n",
    "    nb_words = min(max_nb_words, len(word_index))\n",
    "    word_embedding_matrix = np.zeros((nb_words + 1, EMBEDDING_DIM))\n",
    "    for word, i in word_index.items():\n",
    "        if i > max_nb_words:\n",
    "            continue\n",
    "        embedding_vector = embeddings_index.get(word)\n",
    "        if embedding_vector is not None:\n",
    "            word_embedding_matrix[i] = embedding_vector\n",
    "\n",
    "    print('Null word embeddings: %d' % np.sum(np.sum(word_embedding_matrix, axis=1) == 0))\n",
    "    return word_embedding_matrix, nb_words"
   ]
  },
  {
   "cell_type": "code",
   "execution_count": 5,
   "metadata": {},
   "outputs": [],
   "source": [
    "# Prepare training data tensors\n",
    "def pad_sentences(gap_word_sequences, coref, maxlen):\n",
    "    gap_text = pad_sequences(gap_word_sequences, maxlen=maxlen)\n",
    "    labels = np.array(coref, dtype=int)\n",
    "    print('Shape of text data tensor:', gap_text.shape)\n",
    "    print('Shape of label tensor:', labels.shape)\n",
    "    return gap_text, labels\n",
    "\n",
    "#Initialize embedding matrix. If it exists, load it, otherwise create it\n",
    "def init_embeddings(w_index, max_nb_words):\n",
    "    cache_filename = \"embedding_matrix.npy\"\n",
    "\n",
    "    if exists(cache_filename):\n",
    "        word_embedding_matrix = np.load(cache_filename)\n",
    "        word_embedding_matrix = word_embedding_matrix[0]\n",
    "    else:\n",
    "        # Prepare embedding matrix to be used in Embedding Layer\n",
    "        embeddings_index = get_embeddings()\n",
    "        word_embedding_matrix = get_embedding_matrix(embeddings_index, w_index, max_nb_words)\n",
    "        np.save(cache_filename, word_embedding_matrix)\n",
    "    return word_embedding_matrix\n",
    "\n",
    "#Create and save tokenizer\n",
    "def create_tokenizer(gap_text):\n",
    "    print('Creating tokenizer...')\n",
    "    tokenizer = Tokenizer(num_words=MAX_NB_WORDS)\n",
    "    tokenizer.fit_on_texts(gap_text)\n",
    "    with open('tokenizer.pickle', \"wb\") as output_file:\n",
    "        pickle.dump(tokenizer, output_file)\n",
    "\n",
    "#Tokenize text and create word index\n",
    "def tokenize_text(gap_text):\n",
    "    # load tokenizer\n",
    "    if not exists('tokenizer.pickle'):\n",
    "        create_tokenizer(gap_text)\n",
    "    with open('tokenizer.pickle', 'rb') as handle:\n",
    "        tokenizer = pickle.load(handle)\n",
    "\n",
    "    gap_word_sequences = tokenizer.texts_to_sequences(gap_text)\n",
    "    word_index = tokenizer.word_index\n",
    "    print(\"Words in index: %d\" % len(word_index))\n",
    "\n",
    "    return gap_word_sequences, word_index\n",
    "\n",
    "def prepare_glove(maxlen, gap_text, coref):\n",
    "    gap_word_sequences, w_index = tokenize_text(gap_text)\n",
    "    gap, labels = pad_sentences(gap_word_sequences, coref, maxlen)\n",
    "    return gap, labels, w_index"
   ]
  },
  {
   "cell_type": "code",
   "execution_count": 6,
   "metadata": {},
   "outputs": [],
   "source": [
    "def _row_to_y(row):\n",
    "    if row.loc['A-coref']:\n",
    "        return 0\n",
    "    if row.loc['B-coref']:\n",
    "        return 1\n",
    "    return 2\n",
    "\n",
    "def words_between(x, num_words=30):\n",
    "    all_before = x[0][:x[1]].split(' ')\n",
    "    all_after = x[0][x[1]:].split(' ')\n",
    "    words_before =  \" \".join(all_before[-num_words:])\n",
    "    words_after =  \" \".join(all_after[:num_words+1])\n",
    "    return words_before + words_after\n",
    "\n",
    "def read_dataset(filename):\n",
    "    gap_df = pd.read_csv(filename, sep='\\t')\n",
    "    # take the text as it is\n",
    "    # gap_text = pd.Series(gap_df['Text'].tolist())\n",
    "    \n",
    "    #Take a window of n words (n/2 before the pronoun, n/2 after the promnoun)\n",
    "    gap_df['NN-input'] = gap_df[['Text', 'Pronoun-offset']].apply(words_between, axis=1)\n",
    "    gap_text = pd.Series(gap_df['NN-input'].tolist())\n",
    "\n",
    "    labels = gap_df.apply(_row_to_y, axis=1)\n",
    "    return gap_text, labels\n",
    "\n",
    "def prepare_dataset(filename, maxlen, max_nb_words, train=0):\n",
    "    gap_text, labels = read_dataset(filename)\n",
    "    X, y, w_index = prepare_glove(maxlen, gap_text, labels)\n",
    "    if train == 0:\n",
    "        word_embedding_matrix = init_embeddings(w_index, max_nb_words)\n",
    "        return X, y, word_embedding_matrix\n",
    "    else:\n",
    "        return X, y"
   ]
  },
  {
   "cell_type": "code",
   "execution_count": 7,
   "metadata": {},
   "outputs": [],
   "source": [
    "def create_model(word_embedding_matrix, n_hidden, dropout, maxlen, lr):\n",
    "    in_dim, out_dim = word_embedding_matrix.shape\n",
    "    \n",
    "    gap_input = Input(name='gap', shape=(maxlen,))\n",
    "    \n",
    "    embedding_layer = Embedding(in_dim,\n",
    "                                out_dim,\n",
    "                                weights=[word_embedding_matrix],\n",
    "                                input_length=maxlen,\n",
    "                                trainable=False)\n",
    "    embedding_ = embedding_layer(gap_input)\n",
    "    lstm_layer = LSTM(n_hidden, kernel_initializer='glorot_uniform',\n",
    "                       bias_initializer='zeros', kernel_regularizer=regularizers.l2(0.0001))\n",
    "\n",
    "    lstm_output = lstm_layer(embedding_)\n",
    "    \n",
    "    output_ = Dense(n_hidden, activation='relu')(lstm_output)\n",
    "    output_ = Dropout(dropout)(output_)\n",
    "    output_ = BatchNormalization()(output_)\n",
    "    output_ = Dense(n_hidden, activation='relu')(output_)\n",
    "    output_ = Dropout(dropout)(output_)\n",
    "    output_ = BatchNormalization()(output_)\n",
    "    \n",
    "    output = Dense(3, activation='sigmoid', kernel_regularizer=regularizers.l2(0.0001),\n",
    "                   bias_regularizer=regularizers.l2(0.0001))(output_)\n",
    "    \n",
    "    net = Model(gap_input, [output])\n",
    "\n",
    "    net.compile(optimizer=Adam(lr=lr), loss='categorical_crossentropy',\n",
    "                metrics=['categorical_crossentropy', 'accuracy'])\n",
    "    return net\n",
    "\n",
    "def evaluate_best_model(model, gap_test, y_test, filepath):\n",
    "    model.load_weights(filepath)\n",
    "\n",
    "    scores = model.evaluate([gap_test], y_test, verbose=0, batch_size=4)\n",
    "    loss = scores[1]\n",
    "    accuracy = scores[2]\n",
    "    return loss, accuracy"
   ]
  },
  {
   "cell_type": "code",
   "execution_count": 8,
   "metadata": {},
   "outputs": [
    {
     "name": "stdout",
     "output_type": "stream",
     "text": [
      "Words in index: 22236\n",
      "Shape of text data tensor: (2000, 100)\n",
      "Shape of label tensor: (2000,)\n",
      "Words in index: 22236\n",
      "Shape of text data tensor: (454, 100)\n",
      "Shape of label tensor: (454,)\n",
      "Words in index: 22236\n",
      "Shape of text data tensor: (2000, 100)\n",
      "Shape of label tensor: (2000,)\n"
     ]
    }
   ],
   "source": [
    "maxlen = 100\n",
    "max_nb_words = 25000\n",
    "\n",
    "gap_train, y_train, word_embedding_matrix = prepare_dataset(train_file, maxlen, max_nb_words, train=0)\n",
    "gap_dev, y_dev = prepare_dataset(dev_file, maxlen, max_nb_words, train=1)\n",
    "gap_test, y_test = prepare_dataset(test_file, maxlen, max_nb_words, train=1)\n",
    "\n",
    "y_train = to_categorical(y_train, num_classes=3)\n",
    "y_dev = to_categorical(y_dev, num_classes=3)\n",
    "y_test = to_categorical(y_test, num_classes=3)"
   ]
  },
  {
   "cell_type": "code",
   "execution_count": 9,
   "metadata": {},
   "outputs": [
    {
     "data": {
      "text/plain": [
       "array([[    0,     0,     0, ...,     8,   141,  2307],\n",
       "       [    0,     0,     0, ...,     2,  9980,  9981],\n",
       "       [    0,     0,     0, ...,  6409,    13,     1],\n",
       "       ...,\n",
       "       [    0,     0,     0, ...,   373,  4103, 22223],\n",
       "       [    0,     0,     0, ...,   277, 22234,   165],\n",
       "       [    0,     0,     0, ...,     5,     8,   336]], dtype=int32)"
      ]
     },
     "execution_count": 9,
     "metadata": {},
     "output_type": "execute_result"
    }
   ],
   "source": [
    "gap_train"
   ]
  },
  {
   "cell_type": "code",
   "execution_count": 10,
   "metadata": {},
   "outputs": [
    {
     "data": {
      "text/plain": [
       "array([[1., 0., 0.],\n",
       "       [1., 0., 0.],\n",
       "       [0., 1., 0.],\n",
       "       ...,\n",
       "       [1., 0., 0.],\n",
       "       [1., 0., 0.],\n",
       "       [0., 1., 0.]], dtype=float32)"
      ]
     },
     "execution_count": 10,
     "metadata": {},
     "output_type": "execute_result"
    }
   ],
   "source": [
    "y_train"
   ]
  },
  {
   "cell_type": "code",
   "execution_count": 11,
   "metadata": {},
   "outputs": [
    {
     "name": "stdout",
     "output_type": "stream",
     "text": [
      "WARNING:tensorflow:From /anaconda3/envs/coref/lib/python3.6/site-packages/tensorflow/python/framework/op_def_library.py:263: colocate_with (from tensorflow.python.framework.ops) is deprecated and will be removed in a future version.\n",
      "Instructions for updating:\n",
      "Colocations handled automatically by placer.\n",
      "WARNING:tensorflow:From /anaconda3/envs/coref/lib/python3.6/site-packages/keras/backend/tensorflow_backend.py:3445: calling dropout (from tensorflow.python.ops.nn_ops) with keep_prob is deprecated and will be removed in a future version.\n",
      "Instructions for updating:\n",
      "Please use `rate` instead of `keep_prob`. Rate should be set to `rate = 1 - keep_prob`.\n",
      "_________________________________________________________________\n",
      "Layer (type)                 Output Shape              Param #   \n",
      "=================================================================\n",
      "gap (InputLayer)             (None, 100)               0         \n",
      "_________________________________________________________________\n",
      "embedding_1 (Embedding)      (None, 100, 300)          6671100   \n",
      "_________________________________________________________________\n",
      "lstm_1 (LSTM)                (None, 300)               721200    \n",
      "_________________________________________________________________\n",
      "dense_1 (Dense)              (None, 300)               90300     \n",
      "_________________________________________________________________\n",
      "dropout_1 (Dropout)          (None, 300)               0         \n",
      "_________________________________________________________________\n",
      "batch_normalization_1 (Batch (None, 300)               1200      \n",
      "_________________________________________________________________\n",
      "dense_2 (Dense)              (None, 300)               90300     \n",
      "_________________________________________________________________\n",
      "dropout_2 (Dropout)          (None, 300)               0         \n",
      "_________________________________________________________________\n",
      "batch_normalization_2 (Batch (None, 300)               1200      \n",
      "_________________________________________________________________\n",
      "dense_3 (Dense)              (None, 3)                 903       \n",
      "=================================================================\n",
      "Total params: 7,576,203\n",
      "Trainable params: 903,903\n",
      "Non-trainable params: 6,672,300\n",
      "_________________________________________________________________\n",
      "WARNING:tensorflow:From /anaconda3/envs/coref/lib/python3.6/site-packages/tensorflow/python/ops/math_ops.py:3066: to_int32 (from tensorflow.python.ops.math_ops) is deprecated and will be removed in a future version.\n",
      "Instructions for updating:\n",
      "Use tf.cast instead.\n"
     ]
    },
    {
     "name": "stderr",
     "output_type": "stream",
     "text": [
      "/anaconda3/envs/coref/lib/python3.6/site-packages/ipykernel_launcher.py:21: UserWarning: The `nb_epoch` argument in `fit` has been renamed `epochs`.\n"
     ]
    },
    {
     "name": "stdout",
     "output_type": "stream",
     "text": [
      "Train on 2000 samples, validate on 454 samples\n",
      "Epoch 1/20\n",
      "2000/2000 [==============================] - 169s 85ms/step - loss: 0.9597 - categorical_crossentropy: 0.9583 - acc: 0.4450 - val_loss: 1.0195 - val_categorical_crossentropy: 1.0186 - val_acc: 0.4515\n",
      "Epoch 2/20\n",
      "2000/2000 [==============================] - 171s 85ms/step - loss: 0.9540 - categorical_crossentropy: 0.9532 - acc: 0.4530 - val_loss: 0.9977 - val_categorical_crossentropy: 0.9970 - val_acc: 0.4515\n",
      "Epoch 3/20\n",
      "2000/2000 [==============================] - 162s 81ms/step - loss: 0.9545 - categorical_crossentropy: 0.9538 - acc: 0.4415 - val_loss: 0.9969 - val_categorical_crossentropy: 0.9963 - val_acc: 0.4515\n",
      "Epoch 4/20\n",
      "2000/2000 [==============================] - 163s 81ms/step - loss: 0.9529 - categorical_crossentropy: 0.9522 - acc: 0.4485 - val_loss: 1.0000 - val_categorical_crossentropy: 0.9993 - val_acc: 0.4515\n",
      "Epoch 5/20\n",
      "2000/2000 [==============================] - 166s 83ms/step - loss: 0.9539 - categorical_crossentropy: 0.9532 - acc: 0.4605 - val_loss: 0.9986 - val_categorical_crossentropy: 0.9980 - val_acc: 0.4119\n",
      "2000/2000 [==============================] - 3s 1ms/step\n",
      "\n",
      "categorical_crossentropy: 0.97, acc: 45.90%\n"
     ]
    }
   ],
   "source": [
    "BATCH_SIZE = 1\n",
    "NB_EPOCH = 20\n",
    "N_HIDDEN = 300\n",
    "DROPOUT = 0.1\n",
    "LR = 1e-3\n",
    "MAXLEN = 100\n",
    "NUM_WORDS = 30\n",
    "\n",
    "filename = \"models/weights.best.lstm.hdf5\"\n",
    "hist = History()\n",
    "\n",
    "net = create_model(word_embedding_matrix, N_HIDDEN, DROPOUT, MAXLEN, LR)\n",
    "net.summary()\n",
    "\n",
    "callbacks = [ModelCheckpoint(filename, monitor='val_loss', save_best_only=True, mode='min'),\n",
    "             EarlyStopping(monitor='val_loss', patience=2)]\n",
    "\n",
    "# Start training\n",
    "hist = net.fit([gap_train], y_train,\n",
    "               validation_data=([gap_dev], y_dev),\n",
    "               batch_size=BATCH_SIZE, nb_epoch=NB_EPOCH, shuffle=True, callbacks=callbacks)\n",
    "\n",
    "# compute final accuracy on training and test sets\n",
    "scores = net.evaluate([gap_test], y_test)\n",
    "print(\"\\n%s: %.2f, %s: %.2f%%\" % (net.metrics_names[1], scores[1], net.metrics_names[2], scores[2]*100))"
   ]
  },
  {
   "cell_type": "code",
   "execution_count": 12,
   "metadata": {},
   "outputs": [
    {
     "name": "stdout",
     "output_type": "stream",
     "text": [
      "Evaluation: loss = 0.9725, accuracy = 42.75%\n"
     ]
    }
   ],
   "source": [
    "test_loss, test_acc = evaluate_best_model(net, gap_test, y_test, filename)\n",
    "print('Evaluation: loss = {0:.4f}, accuracy = {1:.2f}%'.format(test_loss, test_acc * 100))"
   ]
  },
  {
   "cell_type": "code",
   "execution_count": 13,
   "metadata": {},
   "outputs": [],
   "source": [
    "with mlflow.start_run():\n",
    "   # log metrics\n",
    "    mlflow.log_metric(\"categorical_crossentropy\", test_loss)\n",
    "    mlflow.log_metric(\"accuracy\", test_acc)\n",
    "    \n",
    "    #log params\n",
    "    mlflow.log_param(\"batch_size\", BATCH_SIZE)\n",
    "    mlflow.log_param(\"nb_epoch\", NB_EPOCH)\n",
    "    mlflow.log_param(\"n_hidden\", N_HIDDEN)\n",
    "    mlflow.log_param(\"dropout\", DROPOUT)\n",
    "    mlflow.log_param(\"lr\", LR)\n",
    "    mlflow.log_param(\"maxlen\", MAXLEN)\n",
    "    mlflow.log_param(\"num_words\", NUM_WORDS)\n",
    "    \n",
    "    #log model\n",
    "    mlflow.keras.log_model(net, \"models\")"
   ]
  },
  {
   "cell_type": "markdown",
   "metadata": {},
   "source": [
    "**NOTE**: setup MLflow to track parameters and experiments. Some initial results:\n",
    "\n",
    "- Best model with first 100 words: Evaluation: loss = 0.9742, accuracy = 45.65%\n",
    "\n",
    "\n",
    "- Window of 25 words: Evaluation: loss = 0.9786, accuracy = 44.00%\n",
    "\n",
    "\n",
    "- Window of 30 words: Evaluation: loss = 0.9670, accuracy = 48.15%\n",
    "- Window of 30 words: Evaluation: loss = 0.9892, accuracy = 45.70%\n",
    "- Window of 30 words: Evaluation: loss = 0.9735, accuracy = 46.75%\n",
    "- Window of 30 words: Evaluation: loss = 0.9673, accuracy = 42.75% (dropout = 0.3)\n",
    "\n",
    "\n",
    "- Window of 35 words: Evaluation: loss = 0.9925, accuracy = 44.60%\n",
    "- Window of 35 words: Evaluation: loss = 0.9835, accuracy = 43.55%\n",
    "\n",
    "\n",
    "- Window of 40 words: Evaluation: loss = 0.9815, accuracy = 44.95%\n",
    "- Window of 40 words: Evaluation: loss = 0.9794, accuracy = 48.30%\n",
    "- Window of 40 words: Evaluation: loss = 0.9716, accuracy = 42.85% (dropout = 0.3)"
   ]
  },
  {
   "cell_type": "code",
   "execution_count": 14,
   "metadata": {},
   "outputs": [
    {
     "data": {
      "image/png": "[encoded data removed]",
      "text/plain": [
       "<Figure size 432x288 with 1 Axes>"
      ]
     },
     "metadata": {
      "needs_background": "light"
     },
     "output_type": "display_data"
    },
    {
     "data": {
      "image/png": "[encoded data removed]",
      "text/plain": [
       "<Figure size 432x288 with 1 Axes>"
      ]
     },
     "metadata": {
      "needs_background": "light"
     },
     "output_type": "display_data"
    }
   ],
   "source": [
    "# summarize history for accuracy\n",
    "plt.plot(hist.history['acc'])\n",
    "plt.plot(hist.history['val_acc'])\n",
    "plt.title('model accuracy')\n",
    "plt.ylabel('accuracy')\n",
    "plt.xlabel('epoch')\n",
    "plt.legend(['train', 'test'], loc='upper left')\n",
    "plt.show()\n",
    "# summarize history for loss\n",
    "plt.plot(hist.history['loss'])\n",
    "plt.plot(hist.history['val_loss'])\n",
    "plt.title('model loss')\n",
    "plt.ylabel('loss')\n",
    "plt.xlabel('epoch')\n",
    "plt.legend(['train', 'test'], loc='upper left')\n",
    "plt.show()"
   ]
  },
  {
   "cell_type": "code",
   "execution_count": null,
   "metadata": {},
   "outputs": [],
   "source": []
  }
 ],
 "metadata": {
  "kernelspec": {
   "display_name": "Python 3",
   "language": "python",
   "name": "python3"
  },
  "language_info": {
   "codemirror_mode": {
    "name": "ipython",
    "version": 3
   },
   "file_extension": ".py",
   "mimetype": "text/x-python",
   "name": "python",
   "nbconvert_exporter": "python",
   "pygments_lexer": "ipython3",
   "version": "3.6.8"
  }
 },
 "nbformat": 4,
 "nbformat_minor": 2
}
