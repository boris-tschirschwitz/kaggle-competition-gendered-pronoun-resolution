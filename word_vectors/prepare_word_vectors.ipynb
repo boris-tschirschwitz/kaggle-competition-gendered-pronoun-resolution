{
 "cells": [
  {
   "cell_type": "code",
   "execution_count": null,
   "metadata": {},
   "outputs": [],
   "source": [
    "import pandas as pd\n",
    "import word_vectors as wv\n",
    "import cnn_input as cnni"
   ]
  },
  {
   "cell_type": "code",
   "execution_count": null,
   "metadata": {},
   "outputs": [],
   "source": [
    "gap_df = pd.read_csv('../data/raw/gap-coreference/gap-development.tsv', sep='\\t')\n",
    "glove_word_vectors = wv.WordVectors('glove', 100)\n",
    "glove_word_vectors.init()\n",
    "cnn_input = cnni.CnnInput(glove_word_vectors)"
   ]
  },
  {
   "cell_type": "code",
   "execution_count": null,
   "metadata": {},
   "outputs": [],
   "source": [
    "for index, row in gap_df.iterrows():\n",
    "    cnn_input.input_to_csv(index, row)"
   ]
  },
  {
   "cell_type": "code",
   "execution_count": null,
   "metadata": {},
   "outputs": [],
   "source": []
  }
 ],
 "metadata": {
  "kernelspec": {
   "display_name": "Python 3",
   "language": "python",
   "name": "python3"
  },
  "language_info": {
   "codemirror_mode": {
    "name": "ipython",
    "version": 3
   },
   "file_extension": ".py",
   "mimetype": "text/x-python",
   "name": "python",
   "nbconvert_exporter": "python",
   "pygments_lexer": "ipython3",
   "version": "3.7.2"
  }
 },
 "nbformat": 4,
 "nbformat_minor": 2
}
